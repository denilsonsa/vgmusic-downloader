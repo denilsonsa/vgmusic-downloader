{
 "cells": [
  {
   "attachments": {},
   "cell_type": "markdown",
   "id": "6d6091a8-afed-4bd6-aca7-44db9d20ddb3",
   "metadata": {},
   "source": [
    "# VGMusic Downloader\n",
    "\n",
    "This [Python](https://www.python.org/)/[Jupyter](https://jupyter.org/) notebook scrapes all songs from the amazing [VGMusic](https://www.vgmusic.com/) website."
   ]
  },
  {
   "cell_type": "markdown",
   "id": "e69cf3fe-a007-468f-9537-169de4067385",
   "metadata": {
    "jp-MarkdownHeadingCollapsed": true
   },
   "source": [
    "## Initialization"
   ]
  },
  {
   "cell_type": "markdown",
   "id": "8a7e036c-b680-495c-b817-afb7cc9c59e0",
   "metadata": {},
   "source": [
    "Make sure you install the dependencies from the [requirements.txt](requirements.txt) file:\n",
    "\n",
    "* [beautifulsoup4](https://pypi.org/project/beautifulsoup4/)\n",
    "* [html5lib](https://pypi.org/project/html5lib/)\n",
    "* ~~[python-slugify](https://pypi.org/project/python-slugify/)~~\n",
    "* [requests](https://pypi.org/project/requests/)\n",
    "* [tqdm](https://pypi.org/project/tqdm/)\n",
    "* [unidecode](https://pypi.org/project/unidecode/)"
   ]
  },
  {
   "cell_type": "code",
   "execution_count": null,
   "id": "e63f2a06-7514-4143-abab-5dc34946322b",
   "metadata": {},
   "outputs": [],
   "source": [
    "import re\n",
    "import requests\n",
    "import unicodedata\n",
    "import unidecode\n",
    "from bs4 import BeautifulSoup, Tag\n",
    "from collections import namedtuple\n",
    "from pathlib import Path\n",
    "from tqdm.autonotebook import tqdm\n",
    "from typing import Generator\n",
    "from urllib.parse import urljoin"
   ]
  },
  {
   "cell_type": "code",
   "execution_count": null,
   "id": "8375686b-c3fc-428d-84f6-3a542e455caf",
   "metadata": {},
   "outputs": [],
   "source": [
    "# Creating a global session to automatically reuse the same TCP connection.\n",
    "# https://docs.python-requests.org/en/latest/user/advanced/#keep-alive\n",
    "SESSION = requests.Session()\n",
    "SESSION.headers.update({\n",
    "    \"User-Agent\": \"VGMusic Downloader https://github.com/denilsonsa/vgmusic-downloader\",\n",
    "})\n",
    "\n",
    "def GET(url):\n",
    "    response = SESSION.get(url)\n",
    "    response.raise_for_status()\n",
    "    return response"
   ]
  },
  {
   "cell_type": "code",
   "execution_count": null,
   "id": "58a55a38-a582-4b73-ae35-b2cc942f135b",
   "metadata": {},
   "outputs": [],
   "source": [
    "# python-slugify is almost good, but not good enough.\n",
    "# I'm now writing my own function.\n",
    "#\n",
    "# SLUG_DASH_REPLACEMENT = \"SSLUGIFYDASHH\"\n",
    "# SLUG_REJECTED_PATTERN = re.compile(r\"[^-+_a-zA-Z0-9() ]+\")\n",
    "# def slug_it(unsafe: str) -> str:\n",
    "#     # Working around https://github.com/un33k/python-slugify/issues/107\n",
    "#     without_dashes = unsafe.replace(\"-\", SLUG_DASH_REPLACEMENT)\n",
    "#     slug = slugify(without_dashes, lowercase=False, separator=\"_\", regex_pattern=SLUG_REJECTED_PATTERN)\n",
    "#     return slug.replace(SLUG_DASH_REPLACEMENT, \"-\").strip()\n",
    "#\n",
    "# slug_it(\" Aa'bB\\\"cC/dD\\\\e(f)g[h]i{j}k?l!m:n;o<p>q*r_s-t+u=v@w#x$y%z&0 1.2,3\")"
   ]
  },
  {
   "cell_type": "code",
   "execution_count": null,
   "id": "35a56741-1a9b-45db-b415-f0cf0018305d",
   "metadata": {},
   "outputs": [],
   "source": [
    "# This code is inspired by:\n",
    "# * https://github.com/un33k/python-slugify/blob/master/slugify/slugify.py\n",
    "# * https://stackoverflow.com/questions/295135/turn-a-string-into-a-valid-filename\n",
    "\n",
    "UNSAFE_CHARS = re.compile(r\"[^-+_%. a-zA-Z0-9()\\[\\]]+\")\n",
    "SAFE_SEPARATOR = \"_\"\n",
    "SAFE_SEPARATOR_DUPES = re.compile(\"(\" + SAFE_SEPARATOR + \"){2,}\")\n",
    "SAFE_SPACE_DUPES = re.compile(\" {2,}\")\n",
    "\n",
    "def safe_filename(text: str) -> str:\n",
    "    assert isinstance(text, str)\n",
    "    text = unicodedata.normalize('NFKD', text)\n",
    "    text = unidecode.unidecode(text)\n",
    "    assert isinstance(text, str)\n",
    "    # Replacing some:\n",
    "    text = text.replace(\"&\", \" and \")\n",
    "    # Replacing unsafe chars:\n",
    "    text = UNSAFE_CHARS.sub(SAFE_SEPARATOR, text)\n",
    "    # Removing duplicates:\n",
    "    text = SAFE_SEPARATOR_DUPES.sub(SAFE_SEPARATOR, text)\n",
    "    # Removing extra whitespace:\n",
    "    text = SAFE_SPACE_DUPES.sub(\" \", text)\n",
    "    # Removing leading/trailing dots and spaces:\n",
    "    text = text.strip(\" .\")\n",
    "    \n",
    "    return text\n",
    "\n",
    "safe_filename(\" Aa'bB\\\"cC/dD\\\\e(f)g[h]i{j}k?l!m:n;o<p>q*r_s-t+u=v@w#x$y%z&0  1.2,3 D&D C & C . \")"
   ]
  },
  {
   "cell_type": "markdown",
   "id": "0d7060c1-ef90-4584-93b9-226175650692",
   "metadata": {},
   "source": [
    "## Configuration\n",
    "\n",
    "Please change these values to fit your needs."
   ]
  },
  {
   "cell_type": "code",
   "execution_count": null,
   "id": "065609ce-3764-4c48-9e45-d07b9868e10e",
   "metadata": {},
   "outputs": [],
   "source": [
    "STARTING_URL = \"https://www.vgmusic.com/music/\""
   ]
  },
  {
   "cell_type": "code",
   "execution_count": null,
   "id": "5a6a5898-1b8f-46e5-afae-4bfc88e8d6bc",
   "metadata": {},
   "outputs": [],
   "source": [
    "DESTINATION = Path(\"/path/to/save/VGMusic\")\n",
    "\n",
    "if not DESTINATION.is_dir():\n",
    "    raise ValueError(\"The DESTINATION path does not exist! Aborting to prevent mistakes. `{}`\".format(DESTINATION))"
   ]
  },
  {
   "cell_type": "markdown",
   "id": "185fafd6-f979-4600-a713-dc8d2b66f23f",
   "metadata": {
    "jp-MarkdownHeadingCollapsed": true
   },
   "source": [
    "## Extracting the list of pages\n",
    "\n",
    "Parses the sidebar menu to find all the pages/categories."
   ]
  },
  {
   "cell_type": "code",
   "execution_count": null,
   "id": "74b539ad-bd39-464b-8ee3-86a5718f5027",
   "metadata": {},
   "outputs": [],
   "source": [
    "System = namedtuple(\"System\", [\"group\", \"name\", \"url\", \"safegroup\", \"safename\"])"
   ]
  },
  {
   "cell_type": "code",
   "execution_count": null,
   "id": "0ea0de18-d776-4b78-97f1-714edc2109d5",
   "metadata": {},
   "outputs": [],
   "source": [
    "def extract_sidebar_links(url: str) -> Generator[System, None, None]:\n",
    "    soup = BeautifulSoup(GET(url).text, \"html5lib\")\n",
    "    head = \"\"\n",
    "    for sidebar in soup.find_all(id=\"sidebar\"):\n",
    "        for p in sidebar.find_all(\"p\"):\n",
    "            classes = p.get(\"class\", [])\n",
    "            if \"menuhead\" in classes or \"menularge\" in classes:\n",
    "                head = p.get_text().strip()\n",
    "            elif \"menu\" in classes:\n",
    "                for a in p.find_all(\"a\"):\n",
    "                    name = a.get_text().strip()\n",
    "                    yield System(\n",
    "                        head,\n",
    "                        name,\n",
    "                        urljoin(url, a.get(\"href\", \"\")),\n",
    "                        safe_filename(head),\n",
    "                        safe_filename(name),\n",
    "                    )"
   ]
  },
  {
   "cell_type": "code",
   "execution_count": null,
   "id": "1de0d6d7-4ae4-4745-9542-dfe196de1a48",
   "metadata": {},
   "outputs": [],
   "source": [
    "for stuff in extract_sidebar_links(STARTING_URL):\n",
    "    print(stuff)"
   ]
  },
  {
   "cell_type": "markdown",
   "id": "02e4d982-7a7e-4430-b2e8-09d8bbfb2085",
   "metadata": {
    "jp-MarkdownHeadingCollapsed": true
   },
   "source": [
    "## Extracting each individual song"
   ]
  },
  {
   "cell_type": "code",
   "execution_count": null,
   "id": "cb26169e-9e41-4207-be08-24c50962c8c2",
   "metadata": {},
   "outputs": [],
   "source": [
    "Song = namedtuple(\"Song\", [\"game\", \"name\", \"url\", \"size\", \"author\", \"safegame\", \"safename\", \"safeauthor\"])"
   ]
  },
  {
   "cell_type": "code",
   "execution_count": null,
   "id": "ba174bc3-7337-4be1-9866-d2b6bc87f8a9",
   "metadata": {},
   "outputs": [],
   "source": [
    "def extract_songs_from_page(url: str) -> Generator[Song, None, None]:\n",
    "    soup = BeautifulSoup(GET(url).text, \"html5lib\")\n",
    "    game = \"\"\n",
    "    for tr in soup.select(\"body > table > tbody > tr\"):\n",
    "        classes = tr.get(\"class\", [])\n",
    "        cells = [td for td in tr.children if isinstance(td, Tag)]\n",
    "        if \"gameheader\" in classes:\n",
    "            game = tr.find(\"td\", colspan=\"5\").get_text().strip()\n",
    "        elif game and len(cells) == 4:\n",
    "            td_name, td_size, td_author, td_comments = cells\n",
    "            a = td_name.find(\"a\")\n",
    "            href = a.get(\"href\")\n",
    "            size, _, _ = td_size.get_text().strip().partition(\" bytes\")\n",
    "            size = int(size)\n",
    "            if href:\n",
    "                name = a.get_text().strip()\n",
    "                author = td_author.get_text().strip()\n",
    "                yield Song(\n",
    "                    game,\n",
    "                    name,\n",
    "                    urljoin(url, href),\n",
    "                    size,\n",
    "                    author,\n",
    "                    safe_filename(game),\n",
    "                    safe_filename(name),\n",
    "                    safe_filename(author),\n",
    "                )"
   ]
  },
  {
   "cell_type": "code",
   "execution_count": null,
   "id": "cc2597ec-654e-4f80-816f-68f3f7dfd21b",
   "metadata": {},
   "outputs": [],
   "source": [
    "for stuff in extract_songs_from_page(\"https://www.vgmusic.com/music/console/3do/3do/\"):\n",
    "    print(stuff)"
   ]
  },
  {
   "cell_type": "markdown",
   "id": "718c673a-130c-4b26-a163-9c536c93bcbf",
   "metadata": {},
   "source": [
    "## File handling"
   ]
  },
  {
   "cell_type": "code",
   "execution_count": null,
   "id": "673ff987-8070-41ba-9807-1627c28443a1",
   "metadata": {},
   "outputs": [],
   "source": [
    "def path_builder(system: System, song: Song) -> tuple[Path, str]:\n",
    "    return (\n",
    "        DESTINATION / system.safegroup / system.safename / song.safegame,\n",
    "        song.safename + \" {\" + song.safeauthor + \"}.mid\",\n",
    "    )"
   ]
  },
  {
   "cell_type": "markdown",
   "id": "321ee26f-bbdf-45ac-a384-5758656a4e05",
   "metadata": {},
   "source": [
    "## Main loop"
   ]
  },
  {
   "cell_type": "code",
   "execution_count": null,
   "id": "51d7cfaa-7301-4ba1-a313-7519aec4f478",
   "metadata": {},
   "outputs": [],
   "source": [
    "def download_everything():\n",
    "    with tqdm(desc=\"Total songs\", unit=\"MID\") as progress_total:\n",
    "        with tqdm(desc=\"Downloaded songs\", unit=\"MID\") as progress_downloaded:\n",
    "            with tqdm(desc=\"Skipped songs\", unit=\"MID\") as progress_skipped:\n",
    "                for system in tqdm(list(extract_sidebar_links(STARTING_URL)), desc=\"Systems\", unit=\"systems\"):\n",
    "                    for song in tqdm(list(extract_songs_from_page(system.url)), desc=\"MID Songs for \" + system.name, unit=\"MID\"):\n",
    "                        d, f = path_builder(system, song)\n",
    "                        d.mkdir(parents=True, exist_ok=True)\n",
    "                        fullpath = d / f\n",
    "\n",
    "                        must_download = (not fullpath.exists()) or (fullpath.stat().st_size != song.size)\n",
    "                        if must_download:\n",
    "                            with open(fullpath, \"wb\") as fp:\n",
    "                                fp.write(GET(song.url).content)\n",
    "                            progress_downloaded.update(1)\n",
    "                        else:\n",
    "                            progress_skipped.update(1)\n",
    "                        progress_total.update(1)"
   ]
  },
  {
   "cell_type": "code",
   "execution_count": null,
   "id": "5fc4d987-bbd3-410b-a406-191e944a3d22",
   "metadata": {},
   "outputs": [],
   "source": [
    "download_everything()"
   ]
  },
  {
   "cell_type": "markdown",
   "id": "0b146a3d-db17-4408-b7eb-d13a14396e04",
   "metadata": {},
   "source": [
    "## TODO\n",
    "\n",
    "Ideas for improvements to this code:\n",
    "\n",
    "* [ ] Consider using [inquirer](https://pypi.org/project/inquirer/) to let the user select options. Maybe not worth the trouble, as it doesn't work inside a Jupyter notebook.\n",
    "* [ ] Consider moving this out of a notebook and into a stand-alone Python script.\n",
    "* [ ] Consider downloading in parallel. Probably not worth the trouble. Just leave it running overnight."
   ]
  }
 ],
 "metadata": {
  "kernelspec": {
   "display_name": "Python 3 (ipykernel)",
   "language": "python",
   "name": "python3"
  },
  "language_info": {
   "codemirror_mode": {
    "name": "ipython",
    "version": 3
   },
   "file_extension": ".py",
   "mimetype": "text/x-python",
   "name": "python",
   "nbconvert_exporter": "python",
   "pygments_lexer": "ipython3",
   "version": "3.11.8"
  }
 },
 "nbformat": 4,
 "nbformat_minor": 5
}
